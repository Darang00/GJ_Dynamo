{
 "cells": [
  {
   "cell_type": "code",
   "execution_count": 24,
   "metadata": {},
   "outputs": [
    {
     "name": "stdout",
     "output_type": "stream",
     "text": [
      "한강뚝섬공원 4륜자전거 운행장소 제한\n",
      "버스안내표지판고장\n",
      "바퀴벌레 방역 부탁 드립니다.\n",
      "옆 공사로 인한 피해\n",
      "제설 방안 대첵 (염화칼슘 과다 사용)\n",
      "광진광장 정류장 좀 빨리 고쳐주세요\n",
      "건축물 공사장의 도로 교통 방해 방지 요청\n",
      "일반쓰레기 수거시간 관련-두번째\n",
      "도로패임으로 다쳤어요\n",
      "바퀴벌레 방역 소독\n",
      "바퀴벌레 방역 소독 신청\n",
      "집앞 불법주차 차량 관련\n",
      "개폐식방범창설치 및 구의3동 자율방범 초소\n",
      "불법주정차\n",
      "쓰레기 배출\n",
      "건물 옥상 위험물 신고\n",
      "학생들 하굣길 안전을 위해...이건 아니죠!!!\n",
      "광진구 아차산로 515 앞 건널목 어린이 보호구역 요청 및 과속단속 카메라 요청의 건\n",
      "오전 7시 이전부터 땅 파는 공사소리가 들려요.\n",
      "중곡복개천공영주차장 이용불가?!?\n",
      "중곡체육문화센터 앞 도로 진입환경 개선 요청\n"
     ]
    }
   ],
   "source": [
    "# 크롤링 테스트\n",
    "import requests\n",
    "from bs4 import BeautifulSoup\n",
    "\n",
    "# 가져올 페이지의 범위 설정 (예: 1부터 5페이지까지)\n",
    "start_page = 1\n",
    "end_page = 21\n",
    "\n",
    "for page_number in range(start_page, end_page + 1):\n",
    "    url = f'https://www.gwangjin.go.kr/portal/bbs/B0000340/list.do?menuNo=201671&pageIndex={page_number}'  # 페이지 번호를 포함한 URL 생성\n",
    "    \n",
    "    response = requests.get(url)\n",
    "    \n",
    "    if response.status_code == 200:\n",
    "        soup = BeautifulSoup(response.text, 'html.parser')\n",
    "        \n",
    "        # 페이지 내용을 처리하는 코드 작성\n",
    "        \n",
    "        # 예를 들어, 페이지 내의 모든 제목 가져오기\n",
    "        #titles = soup.find_all('span', class_='tit')\n",
    "        titles = soup.find('span', class_='tit')\n",
    "        for title in titles:\n",
    "            print(title.text.strip())\n",
    "    else:\n",
    "        print(f'Failed to fetch the webpage: {url}')\n",
    "\n",
    "        "
   ]
  },
  {
   "cell_type": "markdown",
   "metadata": {},
   "source": [
    "#워드클라우드"
   ]
  },
  {
   "cell_type": "code",
   "execution_count": 25,
   "metadata": {},
   "outputs": [
    {
     "ename": "TypeError",
     "evalue": "'NoneType' object is not callable",
     "output_type": "error",
     "traceback": [
      "\u001b[1;31m---------------------------------------------------------------------------\u001b[0m",
      "\u001b[1;31mTypeError\u001b[0m                                 Traceback (most recent call last)",
      "Cell \u001b[1;32mIn[25], line 5\u001b[0m\n\u001b[0;32m      2\u001b[0m \u001b[39mimport\u001b[39;00m \u001b[39mmatplotlib\u001b[39;00m\u001b[39m.\u001b[39;00m\u001b[39mpyplot\u001b[39;00m \u001b[39mas\u001b[39;00m \u001b[39mplt\u001b[39;00m\n\u001b[0;32m      4\u001b[0m \u001b[39mimport\u001b[39;00m \u001b[39mjson\u001b[39;00m\n\u001b[1;32m----> 5\u001b[0m json_text \u001b[39m=\u001b[39m titles\u001b[39m.\u001b[39;49mget_text(titles)\n",
      "File \u001b[1;32mc:\\Users\\com\\AppData\\Local\\Programs\\Python\\Python310\\lib\\site-packages\\bs4\\element.py:292\u001b[0m, in \u001b[0;36mPageElement.get_text\u001b[1;34m(self, separator, strip, types)\u001b[0m\n\u001b[0;32m    273\u001b[0m \u001b[39mdef\u001b[39;00m \u001b[39mget_text\u001b[39m(\u001b[39mself\u001b[39m, separator\u001b[39m=\u001b[39m\u001b[39m\"\u001b[39m\u001b[39m\"\u001b[39m, strip\u001b[39m=\u001b[39m\u001b[39mFalse\u001b[39;00m,\n\u001b[0;32m    274\u001b[0m              types\u001b[39m=\u001b[39mdefault):\n\u001b[0;32m    275\u001b[0m \u001b[39m    \u001b[39m\u001b[39m\"\"\"Get all child strings of this PageElement, concatenated using the\u001b[39;00m\n\u001b[0;32m    276\u001b[0m \u001b[39m    given separator.\u001b[39;00m\n\u001b[0;32m    277\u001b[0m \n\u001b[1;32m   (...)\u001b[0m\n\u001b[0;32m    290\u001b[0m \u001b[39m    :return: A string.\u001b[39;00m\n\u001b[0;32m    291\u001b[0m \u001b[39m    \"\"\"\u001b[39;00m\n\u001b[1;32m--> 292\u001b[0m     \u001b[39mreturn\u001b[39;00m separator\u001b[39m.\u001b[39;49mjoin([s \u001b[39mfor\u001b[39;49;00m s \u001b[39min\u001b[39;49;00m \u001b[39mself\u001b[39;49m\u001b[39m.\u001b[39;49m_all_strings(\n\u001b[0;32m    293\u001b[0m                 strip, types\u001b[39m=\u001b[39;49mtypes)])\n",
      "\u001b[1;31mTypeError\u001b[0m: 'NoneType' object is not callable"
     ]
    }
   ],
   "source": [
    "from wordcloud import WordCloud\n",
    "import matplotlib.pyplot as plt\n",
    "\n",
    "import json\n",
    "#json_text = titles.get_text(titles)\n"
   ]
  },
  {
   "cell_type": "code",
   "execution_count": 19,
   "metadata": {},
   "outputs": [
    {
     "ename": "AttributeError",
     "evalue": "ResultSet object has no attribute 'text'. You're probably treating a list of elements like a single element. Did you call find_all() when you meant to call find()?",
     "output_type": "error",
     "traceback": [
      "\u001b[1;31m---------------------------------------------------------------------------\u001b[0m",
      "\u001b[1;31mAttributeError\u001b[0m                            Traceback (most recent call last)",
      "Cell \u001b[1;32mIn[19], line 1\u001b[0m\n\u001b[1;32m----> 1\u001b[0m wordcloud \u001b[39m=\u001b[39m WordCloud(width\u001b[39m=\u001b[39m\u001b[39m800\u001b[39m, height\u001b[39m=\u001b[39m\u001b[39m400\u001b[39m, background_color\u001b[39m=\u001b[39m\u001b[39m'\u001b[39m\u001b[39mwhite\u001b[39m\u001b[39m'\u001b[39m)\u001b[39m.\u001b[39mgenerate(titles\u001b[39m.\u001b[39;49mtext)\n",
      "File \u001b[1;32mc:\\Users\\com\\AppData\\Local\\Programs\\Python\\Python310\\lib\\site-packages\\bs4\\element.py:2433\u001b[0m, in \u001b[0;36mResultSet.__getattr__\u001b[1;34m(self, key)\u001b[0m\n\u001b[0;32m   2431\u001b[0m \u001b[39mdef\u001b[39;00m \u001b[39m__getattr__\u001b[39m(\u001b[39mself\u001b[39m, key):\n\u001b[0;32m   2432\u001b[0m \u001b[39m    \u001b[39m\u001b[39m\"\"\"Raise a helpful exception to explain a common code fix.\"\"\"\u001b[39;00m\n\u001b[1;32m-> 2433\u001b[0m     \u001b[39mraise\u001b[39;00m \u001b[39mAttributeError\u001b[39;00m(\n\u001b[0;32m   2434\u001b[0m         \u001b[39m\"\u001b[39m\u001b[39mResultSet object has no attribute \u001b[39m\u001b[39m'\u001b[39m\u001b[39m%s\u001b[39;00m\u001b[39m'\u001b[39m\u001b[39m. You\u001b[39m\u001b[39m'\u001b[39m\u001b[39mre probably treating a list of elements like a single element. Did you call find_all() when you meant to call find()?\u001b[39m\u001b[39m\"\u001b[39m \u001b[39m%\u001b[39m key\n\u001b[0;32m   2435\u001b[0m     )\n",
      "\u001b[1;31mAttributeError\u001b[0m: ResultSet object has no attribute 'text'. You're probably treating a list of elements like a single element. Did you call find_all() when you meant to call find()?"
     ]
    }
   ],
   "source": [
    "wordcloud = WordCloud(width=800, height=400, background_color='white').generate(titles.text)"
   ]
  }
 ],
 "metadata": {
  "kernelspec": {
   "display_name": "Python 3.10.6 64-bit",
   "language": "python",
   "name": "python3"
  },
  "language_info": {
   "codemirror_mode": {
    "name": "ipython",
    "version": 3
   },
   "file_extension": ".py",
   "mimetype": "text/x-python",
   "name": "python",
   "nbconvert_exporter": "python",
   "pygments_lexer": "ipython3",
   "version": "3.10.6"
  },
  "vscode": {
   "interpreter": {
    "hash": "ac31577eb9c5ba88a4b4e3524678c8d3841048a82d1df3a8c39a7cbe579b0bf7"
   }
  }
 },
 "nbformat": 4,
 "nbformat_minor": 2
}
