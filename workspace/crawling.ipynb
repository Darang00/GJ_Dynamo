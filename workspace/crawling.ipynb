{
 "cells": [
  {
   "cell_type": "code",
   "execution_count": null,
   "metadata": {},
   "outputs": [],
   "source": []
  }
 ],
 "metadata": {
  "kernelspec": {
   "display_name": "Python 3.10.6 64-bit",
   "language": "python",
   "name": "python3"
  },
  "language_info": {
   "name": "python",
   "version": "3.10.6"
  },
  "orig_nbformat": 4,
  "vscode": {
   "interpreter": {
    "hash": "ac31577eb9c5ba88a4b4e3524678c8d3841048a82d1df3a8c39a7cbe579b0bf7"
   }
  }
 },
 "nbformat": 4,
 "nbformat_minor": 2
}
